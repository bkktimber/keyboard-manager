{
 "cells": [
  {
   "cell_type": "code",
   "execution_count": 24,
   "metadata": {},
   "outputs": [],
   "source": [
    "import pandas as pd\n",
    "import numpy as np\n",
    "import os\n",
    "import json\n",
    "import yaml"
   ]
  },
  {
   "cell_type": "code",
   "execution_count": 14,
   "metadata": {},
   "outputs": [],
   "source": [
    "columns = yaml.load(open(os.path.join(os.getcwd(), 'events.yaml')))\n",
    "\n",
    "\n",
    "def get_event_name(dictionary: dict):\n",
    "    \"\"\"Gets value from dictionary for key `name` other returns None\"\"\"\n",
    "    try:\n",
    "        return dictionary.get('name', None)\n",
    "    except AttributeError:\n",
    "        return None"
   ]
  },
  {
   "cell_type": "code",
   "execution_count": 183,
   "metadata": {},
   "outputs": [],
   "source": [
    "# shortcuts to path\n",
    "matches = 'data/matches'\n",
    "lineups = 'data/lineups'\n",
    "events = 'data/events'\n",
    "competition = 'competitions.json'"
   ]
  },
  {
   "cell_type": "code",
   "execution_count": 147,
   "metadata": {},
   "outputs": [],
   "source": [
    "def get_event_name(dictionary: dict):\n",
    "    \"\"\"Gets value from dictionary for key `name` otherwise returns None\"\"\"\n",
    "    try:\n",
    "        return dictionary.get('name', None)\n",
    "    except AttributeError:\n",
    "        return None"
   ]
  },
  {
   "cell_type": "code",
   "execution_count": 275,
   "metadata": {},
   "outputs": [],
   "source": [
    "def get_df(match_id: int, event_type: str, event_data: list) -> pd.DataFrame:\n",
    "    events = [item for item in event_data if item['type']['name'] == event_type.title()]\n",
    "    common_elements = [{key: event.get(key, None) for key in columns['common']} for event in events]\n",
    "    event_objects = []\n",
    "    for event in events:\n",
    "        object_dict = {}\n",
    "        for key in columns[event_type]:\n",
    "            try:\n",
    "                object_dict[key] = event[event_type].get(key, None)\n",
    "            except KeyError:\n",
    "                object_dict[key] = None\n",
    "        event_objects.append(object_dict)\n",
    "        \n",
    "    df = pd.DataFrame([{**i, **j} for i, j in zip(common_elements, event_objects)])\n",
    "    df['event_type'] = event_type\n",
    "    df['match_id'] = match_id\n",
    "    df = df[['match_id'] + ['event_type'] + columns['common'] + columns[event_type]]\n",
    "        \n",
    "    name_cols = [col for col in df.columns if col in columns['name_cols']]\n",
    "    df[name_cols] = df[name_cols].applymap(get_event_name)\n",
    "#     df[name_cols] = df[name_cols].applymap(lambda d: d.get('name', None))\n",
    "        \n",
    "    try:\n",
    "        df[['start_location_x', 'start_location_y']] = df['location'].apply(pd.Series)\n",
    "    except ValueError:\n",
    "        pass\n",
    "    df.drop(columns='location', inplace=True)\n",
    "        \n",
    "    if 'end_location' in df.columns:\n",
    "        end_location_cols = ['end_location_x', 'end_location_y', 'end_location_z']\n",
    "        try:\n",
    "            df[end_location_cols] = df['end_location'].apply(pd.Series)\n",
    "        except ValueError:\n",
    "            df[['end_location_x', 'end_location_y']] = df['end_location'].apply(pd.Series)\n",
    "        df.drop(columns='end_location', inplace=True)\n",
    "    return df"
   ]
  },
  {
   "cell_type": "code",
   "execution_count": 201,
   "metadata": {},
   "outputs": [],
   "source": [
    "def get_file(file_dir: str) -> list:\n",
    "    dir_path = os.path.join(os.getcwd(), file_dir)\n",
    "    file_path = os.listdir(dir_path)\n",
    "    files = [os.path.join(dir_path, file) for file in file_path]\n",
    "    return files"
   ]
  },
  {
   "cell_type": "code",
   "execution_count": 266,
   "metadata": {},
   "outputs": [],
   "source": [
    "match_files = get_file(matches)\n",
    "with open(match_files[-1]) as file:\n",
    "    data = json.load(file)\n",
    "wc_match_id = [str(match['match_id']) for match in data if match['competition']['competition_id'] == 43]\n",
    "wc_event_files = [os.path.join(events, str(match_id)) for match_id in wc_match_id]"
   ]
  },
  {
   "cell_type": "code",
   "execution_count": 285,
   "metadata": {},
   "outputs": [
    {
     "name": "stdout",
     "output_type": "stream",
     "text": [
      "Load 1706 events in WC2018\n"
     ]
    }
   ],
   "source": [
    "df = pd.DataFrame()\n",
    "for event_file in wc_event_files:\n",
    "    with open(event_file + '.json') as file: \n",
    "        data = json.load(file)\n",
    "        df = df.append(get_df(int(event_file[-4:]), 'shot', data))\n",
    "print('Load {} events in WC2018'.format(df.shape[0]))"
   ]
  },
  {
   "cell_type": "code",
   "execution_count": 307,
   "metadata": {},
   "outputs": [
    {
     "data": {
      "text/plain": [
       "Index(['match_id', 'event_type', 'id', 'index', 'period', 'timestamp',\n",
       "       'minute', 'second', 'possession', 'possession_team', 'play_pattern',\n",
       "       'off_camera', 'team', 'player', 'position', 'duration',\n",
       "       'under_pressure', 'statsbomb_xg', 'key_pass_id', 'body_part', 'type',\n",
       "       'outcome', 'technique', 'first_time', 'follows_dribble', 'redirect',\n",
       "       'one_on_one', 'open_goal', 'deflected', 'start_location_x',\n",
       "       'start_location_y', 'end_location_x', 'end_location_y',\n",
       "       'end_location_z'],\n",
       "      dtype='object')"
      ]
     },
     "execution_count": 307,
     "metadata": {},
     "output_type": "execute_result"
    }
   ],
   "source": [
    "df.columns"
   ]
  },
  {
   "cell_type": "code",
   "execution_count": 336,
   "metadata": {},
   "outputs": [],
   "source": [
    "mean_xg = df.groupby('team')['statsbomb_xg'].agg(['mean', 'count']).sort_values(by='count', ascending=False)\n",
    "shot_outcome = pd.DataFrame(df.groupby(['team', 'outcome'])['id'].count()).reset_index()"
   ]
  },
  {
   "cell_type": "code",
   "execution_count": 34,
   "metadata": {},
   "outputs": [],
   "source": [
    "event_type = 'shot'"
   ]
  },
  {
   "cell_type": "code",
   "execution_count": 35,
   "metadata": {},
   "outputs": [],
   "source": [
    "all_events = [i for i in data if i['type']['name'] == event_type.title()]\n",
    "common_elements = [{key: event.get(key, None) for key in columns['common']} for event in all_events]"
   ]
  },
  {
   "cell_type": "code",
   "execution_count": 42,
   "metadata": {},
   "outputs": [],
   "source": [
    "event_objects = []\n",
    "for event in all_events:\n",
    "    object_dict = {}\n",
    "    for key in columns[event_type]:\n",
    "        try:\n",
    "            object_dict[key] = event[event_type.replace(' ', '_')].get(key, None)\n",
    "        except KeyError:\n",
    "            object_dict[key] = None\n",
    "    event_objects.append(object_dict)"
   ]
  },
  {
   "cell_type": "code",
   "execution_count": 48,
   "metadata": {},
   "outputs": [
    {
     "data": {
      "text/plain": [
       "['body_part',\n",
       " 'play_pattern',\n",
       " 'player',\n",
       " 'position',\n",
       " 'possession_team',\n",
       " 'team',\n",
       " 'technique',\n",
       " 'type',\n",
       " 'height',\n",
       " 'recipient',\n",
       " 'outcome',\n",
       " 'card']"
      ]
     },
     "execution_count": 48,
     "metadata": {},
     "output_type": "execute_result"
    }
   ],
   "source": [
    "columns['name_cols']"
   ]
  },
  {
   "cell_type": "code",
   "execution_count": null,
   "metadata": {},
   "outputs": [],
   "source": []
  }
 ],
 "metadata": {
  "kernelspec": {
   "display_name": "Python 3",
   "language": "python",
   "name": "python3"
  },
  "language_info": {
   "codemirror_mode": {
    "name": "ipython",
    "version": 3
   },
   "file_extension": ".py",
   "mimetype": "text/x-python",
   "name": "python",
   "nbconvert_exporter": "python",
   "pygments_lexer": "ipython3",
   "version": "3.6.6"
  }
 },
 "nbformat": 4,
 "nbformat_minor": 2
}
